{
 "cells": [
  {
   "cell_type": "markdown",
   "metadata": {},
   "source": [
    "1. Write a Python program to print the following string in a specific format \n",
    "(see the output).\n",
    "    Twinkle, twinkle, little star,\n",
    "        How I wonder what you are!\n",
    "            Up above the world so high,\n",
    "            Like a diamond in the sky.\n",
    "    Twinkle, twinkle, little star,\n",
    "        How I wonder what you are"
   ]
  },
  {
   "cell_type": "code",
   "execution_count": 5,
   "metadata": {},
   "outputs": [
    {
     "name": "stdout",
     "output_type": "stream",
     "text": [
      "     Twinkle, twinkle, little star,\n",
      "         How I wonder what you are!\n",
      "             Up above the world so high,\n",
      "             Like a diamond in the sky.\n",
      "     Twinkle, twinkle, little star,\n",
      "         How I wonder what you are!\n"
     ]
    }
   ],
   "source": [
    "print(' '*4,\"Twinkle, twinkle, little star,\")\n",
    "print(' '*8,\"How I wonder what you are!\")\n",
    "print(' '*12,\"Up above the world so high,\")\n",
    "print(' '*12,\"Like a diamond in the sky.\")\n",
    "print(' '*4,\"Twinkle, twinkle, little star,\")\n",
    "print(' '*8,\"How I wonder what you are!\")"
   ]
  },
  {
   "cell_type": "markdown",
   "metadata": {},
   "source": [
    "2. Write a Python program to get the Python version you are usingm"
   ]
  },
  {
   "cell_type": "code",
   "execution_count": 23,
   "metadata": {},
   "outputs": [
    {
     "name": "stdout",
     "output_type": "stream",
     "text": [
      "Python version:\n",
      "3.9.7 (default, Sep 16 2021, 16:59:28) [MSC v.1916 64 bit (AMD64)]\n"
     ]
    }
   ],
   "source": [
    "import sys\n",
    "print(\"Python version:\")\n",
    "print(sys.version)"
   ]
  },
  {
   "cell_type": "markdown",
   "metadata": {},
   "source": [
    "3. Write a Python program to display the current date and time."
   ]
  },
  {
   "cell_type": "code",
   "execution_count": 25,
   "metadata": {},
   "outputs": [
    {
     "name": "stdout",
     "output_type": "stream",
     "text": [
      "2022-01-01 21:12:40.731959\n"
     ]
    }
   ],
   "source": [
    "from datetime import datetime\n",
    "print(datetime.now())"
   ]
  },
  {
   "cell_type": "markdown",
   "metadata": {},
   "source": [
    "4. Write a Python program which accepts the radius of a circle from the user and computers the area."
   ]
  },
  {
   "cell_type": "code",
   "execution_count": 26,
   "metadata": {},
   "outputs": [
    {
     "name": "stdout",
     "output_type": "stream",
     "text": [
      "The area of the circle with radius 4.0 is: 50.26548245743669\n"
     ]
    }
   ],
   "source": [
    "from math import pi\n",
    "r = float(input (\"Input the radius of the circle : \"))\n",
    "print (\"The area of the circle with radius \" + str(r) + \" is: \" + str(pi * r**2))"
   ]
  },
  {
   "cell_type": "markdown",
   "metadata": {},
   "source": [
    "5. Write a Python program which accepts the user's first and last name and print them in reverse order with a space between them."
   ]
  },
  {
   "cell_type": "code",
   "execution_count": 27,
   "metadata": {},
   "outputs": [
    {
     "name": "stdout",
     "output_type": "stream",
     "text": [
      "Osama Muhammad\n"
     ]
    }
   ],
   "source": [
    "first_name = input('Please enter first name:')    \n",
    "last_name = input('Please enter last name:')    \n",
    "print(last_name,first_name)"
   ]
  },
  {
   "cell_type": "markdown",
   "metadata": {},
   "source": [
    "\n",
    "\n",
    "\n",
    "\n",
    "6. Write a python program which takes two inputs from user and print the addition"
   ]
  },
  {
   "cell_type": "code",
   "execution_count": 29,
   "metadata": {},
   "outputs": [
    {
     "name": "stdout",
     "output_type": "stream",
     "text": [
      "Addition:  5\n"
     ]
    }
   ],
   "source": [
    "num1=int(input(\"Enter first num\"))\n",
    "num2=int(input(\"Enter second num\"))\n",
    "print(\"Addition: \",num1+num2)"
   ]
  }
 ],
 "metadata": {
  "interpreter": {
   "hash": "c1b6934e936e1ef54c6a95f48075e41a1292402ce0d7d094af8478baa001b4f5"
  },
  "kernelspec": {
   "display_name": "Python 3.9.7 64-bit ('base': conda)",
   "language": "python",
   "name": "python3"
  },
  "language_info": {
   "codemirror_mode": {
    "name": "ipython",
    "version": 3
   },
   "file_extension": ".py",
   "mimetype": "text/x-python",
   "name": "python",
   "nbconvert_exporter": "python",
   "pygments_lexer": "ipython3",
   "version": "3.9.7"
  },
  "orig_nbformat": 4
 },
 "nbformat": 4,
 "nbformat_minor": 2
}
